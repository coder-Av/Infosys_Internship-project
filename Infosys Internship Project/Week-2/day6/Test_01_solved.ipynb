{
 "cells": [
  {
   "cell_type": "markdown",
   "id": "032ded3f",
   "metadata": {},
   "source": [
    "# Titanic Test Solutions\n",
    "Using Pandas + Seaborn"
   ]
  },
  {
   "cell_type": "code",
   "execution_count": null,
   "id": "0e3ff207",
   "metadata": {},
   "outputs": [],
   "source": [
    "import pandas as pd\n",
    "import seaborn as sns\n",
    "import matplotlib.pyplot as plt\n",
    "\n",
    "# Load dataset\n",
    "titanic = pd.read_csv(\"titanic.csv\")"
   ]
  },
  {
   "cell_type": "markdown",
   "id": "b9310625",
   "metadata": {},
   "source": [
    "## Q1: What is the overall survival rate of passengers aboard the Titanic?"
   ]
  },
  {
   "cell_type": "code",
   "execution_count": null,
   "id": "92f42248",
   "metadata": {},
   "outputs": [],
   "source": [
    "# Calculate overall survival rate\n",
    "survival_rate = titanic[\"Survived\"].mean()\n",
    "print(\"Overall Survival Rate:\", survival_rate)"
   ]
  },
  {
   "cell_type": "markdown",
   "id": "6e9af742",
   "metadata": {},
   "source": [
    "## Q2: How does the survival rate vary by passenger class (Pclass)?"
   ]
  },
  {
   "cell_type": "code",
   "execution_count": null,
   "id": "4eaba11b",
   "metadata": {},
   "outputs": [],
   "source": [
    "survival_by_class = titanic.groupby(\"Pclass\")[\"Survived\"].mean()\n",
    "print(survival_by_class)"
   ]
  },
  {
   "cell_type": "markdown",
   "id": "79568dd6",
   "metadata": {},
   "source": [
    "## Q3: What is the average age of passengers who survived vs. those who did not survive?"
   ]
  },
  {
   "cell_type": "code",
   "execution_count": null,
   "id": "8c57fcfc",
   "metadata": {},
   "outputs": [],
   "source": [
    "avg_age = titanic.groupby(\"Survived\")[\"Age\"].mean()\n",
    "print(avg_age)"
   ]
  },
  {
   "cell_type": "markdown",
   "id": "ef43534b",
   "metadata": {},
   "source": [
    "## Q4: How many passengers embarked from each port (Embarked), and what are their survival rates?"
   ]
  },
  {
   "cell_type": "code",
   "execution_count": null,
   "id": "22a87ba1",
   "metadata": {},
   "outputs": [],
   "source": [
    "embarked_counts = titanic[\"Embarked\"].value_counts()\n",
    "embarked_survival = titanic.groupby(\"Embarked\")[\"Survived\"].mean()\n",
    "\n",
    "print(\"Passenger Counts by Embarkation Port:\")\n",
    "print(embarked_counts)\n",
    "print(\"\\nSurvival Rates by Embarkation Port:\")\n",
    "print(embarked_survival)"
   ]
  },
  {
   "cell_type": "markdown",
   "id": "f7893649",
   "metadata": {},
   "source": [
    "## Q5: What is the distribution of fare prices paid by passengers, and does fare impact survival chances?"
   ]
  },
  {
   "cell_type": "code",
   "execution_count": null,
   "id": "5d4eea99",
   "metadata": {},
   "outputs": [],
   "source": [
    "fare_stats = titanic.groupby(\"Survived\")[\"Fare\"].describe()\n",
    "print(fare_stats)"
   ]
  },
  {
   "cell_type": "markdown",
   "id": "25061789",
   "metadata": {},
   "source": [
    "## Q6: Plot the count of passengers by passenger class (Pclass)."
   ]
  },
  {
   "cell_type": "code",
   "execution_count": null,
   "id": "dd5f7b23",
   "metadata": {},
   "outputs": [],
   "source": [
    "plt.figure(figsize=(6,4))\n",
    "sns.countplot(x=\"Pclass\", data=titanic, palette=\"pastel\")\n",
    "plt.title(\"Passenger Count by Class\")\n",
    "plt.show()"
   ]
  },
  {
   "cell_type": "markdown",
   "id": "879f7024",
   "metadata": {},
   "source": [
    "## Q7: Visualize the survival rate with respect to gender using a bar chart."
   ]
  },
  {
   "cell_type": "code",
   "execution_count": null,
   "id": "3bdf840c",
   "metadata": {},
   "outputs": [],
   "source": [
    "plt.figure(figsize=(6,4))\n",
    "sns.barplot(x=\"Sex\", y=\"Survived\", data=titanic, palette=\"Set2\")\n",
    "plt.title(\"Survival Rate by Gender\")\n",
    "plt.show()"
   ]
  },
  {
   "cell_type": "markdown",
   "id": "4fb8fc51",
   "metadata": {},
   "source": [
    "## Q8: Show the age distribution of passengers using a histogram or KDE plot."
   ]
  },
  {
   "cell_type": "code",
   "execution_count": null,
   "id": "b0f51d98",
   "metadata": {},
   "outputs": [],
   "source": [
    "plt.figure(figsize=(6,4))\n",
    "sns.histplot(titanic[\"Age\"].dropna(), kde=True, bins=30, color=\"skyblue\")\n",
    "plt.title(\"Age Distribution of Passengers\")\n",
    "plt.show()"
   ]
  },
  {
   "cell_type": "markdown",
   "id": "f11e48a1",
   "metadata": {},
   "source": [
    "## Q9: Create a boxplot comparing fares across different passenger classes."
   ]
  },
  {
   "cell_type": "code",
   "execution_count": null,
   "id": "af82aee0",
   "metadata": {},
   "outputs": [],
   "source": [
    "plt.figure(figsize=(6,4))\n",
    "sns.boxplot(x=\"Pclass\", y=\"Fare\", data=titanic, palette=\"coolwarm\")\n",
    "plt.title(\"Fare Distribution by Class\")\n",
    "plt.show()"
   ]
  }
 ],
 "metadata": {},
 "nbformat": 4,
 "nbformat_minor": 5
}
